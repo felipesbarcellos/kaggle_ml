{
 "cells": [
  {
   "cell_type": "code",
   "execution_count": 22,
   "metadata": {},
   "outputs": [],
   "source": [
    "import pandas as pd\n",
    "from datetime import datetime"
   ]
  },
  {
   "cell_type": "code",
   "execution_count": 18,
   "metadata": {},
   "outputs": [
    {
     "data": {
      "text/plain": [
       "10517"
      ]
     },
     "execution_count": 18,
     "metadata": {},
     "output_type": "execute_result"
    }
   ],
   "source": [
    "#Define o caminho do csv\n",
    "iowa_file_path = \"data/train.csv\"\n",
    "\n",
    "#Cria DataFrame a partir de arquivo CSV\n",
    "home_data = pd.read_csv(iowa_file_path)\n",
    "\n",
    "#Busca tamanho médio dos terrenos e arredonda para int\n",
    "tamanho_terreno_medio = home_data.LotArea.mean().__round__()"
   ]
  },
  {
   "cell_type": "code",
   "execution_count": 23,
   "metadata": {},
   "outputs": [
    {
     "data": {
      "text/plain": [
       "14"
      ]
     },
     "execution_count": 23,
     "metadata": {},
     "output_type": "execute_result"
    }
   ],
   "source": [
    "#Define o ano que estamos\n",
    "hoje_ano = datetime.today().year\n",
    "\n",
    "#Busca o ano da casa mais nova\n",
    "casa_mais_nova_ano = home_data.YearBuilt.max().__round__()\n",
    "\n",
    "#Calcula a idade da casa mais nova\n",
    "idade_casa_mais_nova = hoje_ano - casa_mais_nova_ano"
   ]
  }
 ],
 "metadata": {
  "kernelspec": {
   "display_name": "venv",
   "language": "python",
   "name": "python3"
  },
  "language_info": {
   "codemirror_mode": {
    "name": "ipython",
    "version": 3
   },
   "file_extension": ".py",
   "mimetype": "text/x-python",
   "name": "python",
   "nbconvert_exporter": "python",
   "pygments_lexer": "ipython3",
   "version": "3.12.5"
  }
 },
 "nbformat": 4,
 "nbformat_minor": 2
}
